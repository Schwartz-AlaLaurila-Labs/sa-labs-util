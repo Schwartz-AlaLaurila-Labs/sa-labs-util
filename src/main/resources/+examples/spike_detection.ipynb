{
 "cells": [
  {
   "cell_type": "code",
   "execution_count": null,
   "metadata": {
    "collapsed": true,
    "deletable": true,
    "editable": true
   },
   "outputs": [],
   "source": [
    "tbUseProject('sa-labs-analysis');"
   ]
  },
  {
   "cell_type": "markdown",
   "metadata": {
    "deletable": true,
    "editable": true
   },
   "source": [
    "### a) Load Test file"
   ]
  },
  {
   "cell_type": "code",
   "execution_count": 6,
   "metadata": {
    "collapsed": false,
    "deletable": true,
    "editable": true
   },
   "outputs": [
    {
     "name": "stdout",
     "output_type": "stream",
     "text": [
      "\n"
     ]
    }
   ],
   "source": [
    "dir = fullfile(fileparts(fileparts(which('spike_detection.m'))), 'data');\n",
    "data = load([dir '/signal-for-spike.dat']);"
   ]
  },
  {
   "cell_type": "markdown",
   "metadata": {
    "deletable": true,
    "editable": true
   },
   "source": [
    "### b) Detect spikes and create feature"
   ]
  },
  {
   "cell_type": "code",
   "execution_count": 7,
   "metadata": {
    "collapsed": false,
    "deletable": true,
    "editable": true
   },
   "outputs": [
    {
     "name": "stdout",
     "output_type": "stream",
     "text": [
      "\n"
     ]
    }
   ],
   "source": [
    "% paramter in seconds\n",
    "baselineStart = 0.5;\n",
    "stimTime = 1;\n",
    "tailTime = 1;\n",
    "endTime = stimTime + tailTime;\n",
    "samplingRate = 1e4;"
   ]
  },
  {
   "cell_type": "code",
   "execution_count": 14,
   "metadata": {
    "collapsed": false,
    "deletable": true,
    "editable": true
   },
   "outputs": [
    {
     "name": "stdout",
     "output_type": "stream",
     "text": [
      "\n"
     ]
    }
   ],
   "source": [
    "% Time axis\n",
    "\n",
    "% { baselineIntervalLen }                  {---    responseIntervalLength --}  {-- poststimIntervalLen --}\n",
    "% |----------------------|-----------------|------------------|---------------|---------------------------|\n",
    "% -0.5                  <desc>             0.0                <desc>\n",
    "% (baselineStartTime) (baseLineEnd = 0) (intervalStart = 0) (endOffset = 0) (intervalEnd)           (endTime)\n",
    "\n",
    "   "
   ]
  },
  {
   "cell_type": "code",
   "execution_count": 8,
   "metadata": {
    "collapsed": false,
    "deletable": true,
    "editable": true
   },
   "outputs": [
    {
     "name": "stdout",
     "output_type": "stream",
     "text": [
      "\n",
      "f = \n",
      "\n",
      "[INFO] mean baseline rate is empty; using just base line rate as mean rate\n",
      "[INFO] mean baseline rate is empty; using just base line rate as mean rate\n",
      "[INFO] mean baseline rate is empty; using just base line rate as mean rate\n",
      "[INFO] mean baseline rate is empty; using just base line rate as mean rate\n",
      "[INFO] mean baseline rate is empty; using just base line rate as mean rate\n",
      "  SpikeTimeFeature with properties:\n",
      "\n",
      "                                  spikeTimes: [1×98 double]\n",
      "                           baselineStartTime: -0.5000\n",
      "                                    stimTime: 1\n",
      "                                     endTime: 2\n",
      "                                samplingRate: 10000\n",
      "                                 description: [1×1 struct]\n",
      "                               intervalStart: 0\n",
      "                            meanBaseLineRate: 0\n",
      "                                 baseLineEnd: 0\n",
      "                                 intervalEnd: 1\n",
      "                                    duration: 2.5000\n",
      "                                  spikeCount: 98\n",
      "                         responseIntervalLen: 1\n",
      "                         baselineIntervalLen: 0.5000\n",
      "                         poststimIntervalLen: 1\n",
      "                                         isi: [1×97 double]\n",
      "                          baselineSpikeTimes: [1×0 double]\n",
      "                          baseLineSpikeCount: 0\n",
      "                                 baselineIsi: [1×0 double]\n",
      "                                baselineIsi2: [1×0 double]\n",
      "                                baseLineRate: 0\n",
      "                       postStimulsSpikeTimes: [1.0110 1.0184 1.0262 1.0514 1.0694 1.1039]\n",
      "                       postStimulsSpikeCount: 6\n",
      "    postStimulsSpikeCountBaseLineSubstracted: 6\n",
      "                             postStimulsRate: 6\n",
      "                        onSetSpikeCount400ms: 44\n",
      "                       OffSetSpikeCount400ms: 6\n",
      "               baseLineSubstractedSpikeCount: 98\n",
      "                baseLineSubstractedSpikeRate: 98\n",
      "     baseLineSubstractedOnSetSpikeCount400ms: 44\n",
      "    baseLineSubstractedOffSetSpikeCount400ms: 6\n",
      "\n",
      "\n",
      "f = \n",
      "\n",
      "[INFO] mean baseline rate is empty; using just base line rate as mean rate\n",
      "[INFO] mean baseline rate is empty; using just base line rate as mean rate\n",
      "[INFO] mean baseline rate is empty; using just base line rate as mean rate\n",
      "[INFO] mean baseline rate is empty; using just base line rate as mean rate\n",
      "[INFO] mean baseline rate is empty; using just base line rate as mean rate\n",
      "  SpikeTimeFeature with properties:\n",
      "\n",
      "                                  spikeTimes: [1×78 double]\n",
      "                           baselineStartTime: -0.5000\n",
      "                                    stimTime: 1\n",
      "                                     endTime: 2\n",
      "                                samplingRate: 10000\n",
      "                                 description: [1×1 struct]\n",
      "                               intervalStart: 0\n",
      "                            meanBaseLineRate: 0\n",
      "                                 baseLineEnd: 0\n",
      "                                 intervalEnd: 1\n",
      "                                    duration: 2.5000\n",
      "                                  spikeCount: 78\n",
      "                         responseIntervalLen: 1\n",
      "                         baselineIntervalLen: 0.5000\n",
      "                         poststimIntervalLen: 1\n",
      "                                         isi: [1×77 double]\n",
      "                          baselineSpikeTimes: [1×0 double]\n",
      "                          baseLineSpikeCount: 0\n",
      "                                 baselineIsi: [1×0 double]\n",
      "                                baselineIsi2: [1×0 double]\n",
      "                                baseLineRate: 0\n",
      "                       postStimulsSpikeTimes: [1.0174 1.0354 1.0570 1.0868]\n",
      "                       postStimulsSpikeCount: 4\n",
      "    postStimulsSpikeCountBaseLineSubstracted: 4\n",
      "                             postStimulsRate: 4\n",
      "                        onSetSpikeCount400ms: 33\n",
      "                       OffSetSpikeCount400ms: 4\n",
      "               baseLineSubstractedSpikeCount: 78\n",
      "                baseLineSubstractedSpikeRate: 78\n",
      "     baseLineSubstractedOnSetSpikeCount400ms: 33\n",
      "    baseLineSubstractedOffSetSpikeCount400ms: 4\n",
      "\n",
      "\n",
      "f = \n",
      "\n",
      "[INFO] mean baseline rate is empty; using just base line rate as mean rate\n",
      "[INFO] mean baseline rate is empty; using just base line rate as mean rate\n",
      "[INFO] mean baseline rate is empty; using just base line rate as mean rate\n",
      "[INFO] mean baseline rate is empty; using just base line rate as mean rate\n",
      "[INFO] mean baseline rate is empty; using just base line rate as mean rate\n",
      "  SpikeTimeFeature with properties:\n",
      "\n",
      "                                  spikeTimes: [1×78 double]\n",
      "                           baselineStartTime: -0.5000\n",
      "                                    stimTime: 1\n",
      "                                     endTime: 2\n",
      "                                samplingRate: 10000\n",
      "                                 description: [1×1 struct]\n",
      "                               intervalStart: 0\n",
      "                            meanBaseLineRate: 0\n",
      "                                 baseLineEnd: 0\n",
      "                                 intervalEnd: 1\n",
      "                                    duration: 2.5000\n",
      "                                  spikeCount: 78\n",
      "                         responseIntervalLen: 1\n",
      "                         baselineIntervalLen: 0.5000\n",
      "                         poststimIntervalLen: 1\n",
      "                                         isi: [1×77 double]\n",
      "                          baselineSpikeTimes: [1×0 double]\n",
      "                          baseLineSpikeCount: 0\n",
      "                                 baselineIsi: [1×0 double]\n",
      "                                baselineIsi2: [1×0 double]\n",
      "                                baseLineRate: 0\n",
      "                       postStimulsSpikeTimes: [1.0174 1.0354 1.0570 1.0868]\n",
      "                       postStimulsSpikeCount: 4\n",
      "    postStimulsSpikeCountBaseLineSubstracted: 4\n",
      "                             postStimulsRate: 4\n",
      "                        onSetSpikeCount400ms: 33\n",
      "                       OffSetSpikeCount400ms: 4\n",
      "               baseLineSubstractedSpikeCount: 78\n",
      "                baseLineSubstractedSpikeRate: 78\n",
      "     baseLineSubstractedOnSetSpikeCount400ms: 33\n",
      "    baseLineSubstractedOffSetSpikeCount400ms: 4\n",
      "\n",
      "\n",
      "f = \n",
      "\n",
      "[INFO] mean baseline rate is empty; using just base line rate as mean rate\n",
      "[INFO] mean baseline rate is empty; using just base line rate as mean rate\n",
      "[INFO] mean baseline rate is empty; using just base line rate as mean rate\n",
      "[INFO] mean baseline rate is empty; using just base line rate as mean rate\n",
      "[INFO] mean baseline rate is empty; using just base line rate as mean rate\n",
      "  SpikeTimeFeature with properties:\n",
      "\n",
      "                                  spikeTimes: [1×86 double]\n",
      "                           baselineStartTime: -0.5000\n",
      "                                    stimTime: 1\n",
      "                                     endTime: 2\n",
      "                                samplingRate: 10000\n",
      "                                 description: [1×1 struct]\n",
      "                               intervalStart: 0\n",
      "                            meanBaseLineRate: 0\n",
      "                                 baseLineEnd: 0\n",
      "                                 intervalEnd: 1\n",
      "                                    duration: 2.5000\n",
      "                                  spikeCount: 86\n",
      "                         responseIntervalLen: 1\n",
      "                         baselineIntervalLen: 0.5000\n",
      "                         poststimIntervalLen: 1\n",
      "                                         isi: [1×85 double]\n",
      "                          baselineSpikeTimes: [1×0 double]\n",
      "                          baseLineSpikeCount: 0\n",
      "                                 baselineIsi: [1×0 double]\n",
      "                                baselineIsi2: [1×0 double]\n",
      "                                baseLineRate: 0\n",
      "                       postStimulsSpikeTimes: [1.0072 1.0281 1.0410 1.0769]\n",
      "                       postStimulsSpikeCount: 4\n",
      "    postStimulsSpikeCountBaseLineSubstracted: 4\n",
      "                             postStimulsRate: 4\n",
      "                        onSetSpikeCount400ms: 39\n",
      "                       OffSetSpikeCount400ms: 4\n",
      "               baseLineSubstractedSpikeCount: 86\n",
      "                baseLineSubstractedSpikeRate: 86\n",
      "     baseLineSubstractedOnSetSpikeCount400ms: 39\n",
      "    baseLineSubstractedOffSetSpikeCount400ms: 4\n",
      "\n",
      "\n",
      "f = \n",
      "\n",
      "[INFO] mean baseline rate is empty; using just base line rate as mean rate\n",
      "[INFO] mean baseline rate is empty; using just base line rate as mean rate\n",
      "[INFO] mean baseline rate is empty; using just base line rate as mean rate\n",
      "[INFO] mean baseline rate is empty; using just base line rate as mean rate\n",
      "[INFO] mean baseline rate is empty; using just base line rate as mean rate\n",
      "  SpikeTimeFeature with properties:\n",
      "\n",
      "                                  spikeTimes: [1×74 double]\n",
      "                           baselineStartTime: -0.5000\n",
      "                                    stimTime: 1\n",
      "                                     endTime: 2\n",
      "                                samplingRate: 10000\n",
      "                                 description: [1×1 struct]\n",
      "                               intervalStart: 0\n",
      "                            meanBaseLineRate: 0\n",
      "                                 baseLineEnd: 0\n",
      "                                 intervalEnd: 1\n",
      "                                    duration: 2.5000\n",
      "                                  spikeCount: 74\n",
      "                         responseIntervalLen: 1\n",
      "                         baselineIntervalLen: 0.5000\n",
      "                         poststimIntervalLen: 1\n",
      "                                         isi: [1×73 double]\n",
      "                          baselineSpikeTimes: [1×0 double]\n",
      "                          baseLineSpikeCount: 0\n",
      "                                 baselineIsi: [1×0 double]\n",
      "                                baselineIsi2: [1×0 double]\n",
      "                                baseLineRate: 0\n",
      "                       postStimulsSpikeTimes: [1.0022 1.0124 1.0192 1.0349]\n",
      "                       postStimulsSpikeCount: 4\n",
      "    postStimulsSpikeCountBaseLineSubstracted: 4\n",
      "                             postStimulsRate: 4\n",
      "                        onSetSpikeCount400ms: 32\n",
      "                       OffSetSpikeCount400ms: 4\n",
      "               baseLineSubstractedSpikeCount: 74\n",
      "                baseLineSubstractedSpikeRate: 74\n",
      "     baseLineSubstractedOnSetSpikeCount400ms: 32\n",
      "    baseLineSubstractedOffSetSpikeCount400ms: 4\n",
      "\n",
      "\n",
      "f = \n",
      "\n",
      "[INFO] mean baseline rate is empty; using just base line rate as mean rate\n",
      "[INFO] mean baseline rate is empty; using just base line rate as mean rate\n",
      "[INFO] mean baseline rate is empty; using just base line rate as mean rate\n",
      "[INFO] mean baseline rate is empty; using just base line rate as mean rate\n",
      "[INFO] mean baseline rate is empty; using just base line rate as mean rate\n",
      "  SpikeTimeFeature with properties:\n",
      "\n",
      "                                  spikeTimes: [1×34 double]\n",
      "                           baselineStartTime: -0.5000\n",
      "                                    stimTime: 1\n",
      "                                     endTime: 2\n",
      "                                samplingRate: 10000\n",
      "                                 description: [1×1 struct]\n",
      "                               intervalStart: 0\n",
      "                            meanBaseLineRate: 0\n",
      "                                 baseLineEnd: 0\n",
      "                                 intervalEnd: 1\n",
      "                                    duration: 2.5000\n",
      "                                  spikeCount: 34\n",
      "                         responseIntervalLen: 1\n",
      "                         baselineIntervalLen: 0.5000\n",
      "                         poststimIntervalLen: 1\n",
      "                                         isi: [1×33 double]\n",
      "                          baselineSpikeTimes: [1×0 double]\n",
      "                          baseLineSpikeCount: 0\n",
      "                                 baselineIsi: [1×0 double]\n",
      "                                baselineIsi2: [1×0 double]\n",
      "                                baseLineRate: 0\n",
      "                       postStimulsSpikeTimes: 1.0458\n",
      "                       postStimulsSpikeCount: 1\n",
      "    postStimulsSpikeCountBaseLineSubstracted: 1\n",
      "                             postStimulsRate: 1\n",
      "                        onSetSpikeCount400ms: 19\n",
      "                       OffSetSpikeCount400ms: 1\n",
      "               baseLineSubstractedSpikeCount: 34\n",
      "                baseLineSubstractedSpikeRate: 34\n",
      "     baseLineSubstractedOnSetSpikeCount400ms: 19\n",
      "    baseLineSubstractedOffSetSpikeCount400ms: 1\n",
      "\n",
      "\n"
     ]
    }
   ],
   "source": [
    "% detect the spikes\n",
    "import sa_labs.common.spike.*;\n",
    "\n",
    "[spikeTimes, spikeAmplitudes] = mht.spike_util.detectSpikes(data);\n",
    "n = size(spikeTimes, 1);\n",
    "\n",
    "features = SpikeTimeFeature.empty(0, n);\n",
    "for i = 1 : n\n",
    "    spikeTimesReleativeToStim = spikeTimes{i}/samplingRate - baselineStart;\n",
    "\n",
    "    f = SpikeTimeFeature(spikeTimesReleativeToStim, -baselineStart, stimTime, samplingRate, endTime) %#ok\n",
    "    features(i) = f;\n",
    "end"
   ]
  },
  {
   "cell_type": "markdown",
   "metadata": {
    "deletable": true,
    "editable": true
   },
   "source": [
    "### c) Calculate mean baseline rate and set it to all features"
   ]
  },
  {
   "cell_type": "code",
   "execution_count": 9,
   "metadata": {
    "collapsed": false,
    "deletable": true,
    "editable": true
   },
   "outputs": [
    {
     "name": "stdout",
     "output_type": "stream",
     "text": [
      "\n"
     ]
    }
   ],
   "source": [
    "features.setMeanBaseLineRate(mean([features.baseLineRate]));"
   ]
  },
  {
   "cell_type": "markdown",
   "metadata": {
    "deletable": true,
    "editable": true
   },
   "source": [
    "### d) Plot psth response of the detected spike"
   ]
  },
  {
   "cell_type": "code",
   "execution_count": 10,
   "metadata": {
    "collapsed": false,
    "deletable": true,
    "editable": true
   },
   "outputs": [
    {
     "name": "stdout",
     "output_type": "stream",
     "text": [
      "Warning: MATLAB has disabled some advanced graphics rendering features by switching to software OpenGL. For more information, click <a href=\"matlab:opengl('problems')\">here</a>.\n",
      "\n"
     ]
    },
    {
     "data": {
      "image/png": "[encoded data removed]",
      "text/plain": [
       "<IPython.core.display.Image object>"
      ]
     },
     "metadata": {},
     "output_type": "display_data"
    }
   ],
   "source": [
    "% a) get psth using variable arguments\n",
    "[x, y] = SpikeTimeFeature.getPSTH(features, 'smoothingWindowPSTH', 0.0001, 'binWidthPSTH', 0.01);\n",
    "\n",
    "figure()\n",
    "plot(x, y);\n",
    "xlabel('Time (seconds)');\n",
    "ylabel('Firing rate');\n",
    "title('PSTH with smoothing window');\n"
   ]
  },
  {
   "cell_type": "code",
   "execution_count": 11,
   "metadata": {
    "collapsed": false,
    "deletable": true,
    "editable": true
   },
   "outputs": [
    {
     "name": "stdout",
     "output_type": "stream",
     "text": [
      "\n"
     ]
    },
    {
     "data": {
      "image/png": "[encoded data removed]",
      "text/plain": [
       "<IPython.core.display.Image object>"
      ]
     },
     "metadata": {},
     "output_type": "display_data"
    }
   ],
   "source": [
    "% b) using feature description instance for online analysis with GUI\n",
    "% control\n",
    "\n",
    "props = containers.Map();\n",
    "props('id') = 'PSTH';\n",
    "props('smoothingWindowPSTH') = 0.0001;\n",
    "props('binWidthPSTH') =  0.01;\n",
    "psthDesc = sa_labs.analysis.entity.FeatureDescription(props);\n",
    "\n",
    "psthHandle = @() SpikeTimeFeature.getPSTH(features, 'description', psthDesc);\n",
    "[x, y] = psthHandle();\n",
    "plot(x, y);\n",
    "xlabel('Time (seconds)');\n",
    "ylabel('Firing rate');\n",
    "title('PSTH with smoothing window');\n"
   ]
  },
  {
   "cell_type": "code",
   "execution_count": 12,
   "metadata": {
    "collapsed": false,
    "deletable": true,
    "editable": true
   },
   "outputs": [
    {
     "name": "stdout",
     "output_type": "stream",
     "text": [
      "\n"
     ]
    },
    {
     "data": {
      "image/png": "[encoded data removed]",
      "text/plain": [
       "<IPython.core.display.Image object>"
      ]
     },
     "metadata": {},
     "output_type": "display_data"
    }
   ],
   "source": [
    "% modifying psthdesc instance\n",
    "psthDesc.smoothingWindowPSTH = 0;\n",
    "% gui will reflect the non smoothed psth\n",
    "\n",
    "figure()\n",
    "[x, y] = psthHandle();\n",
    "plot(x, y);\n",
    "xlabel('Time (seconds)');\n",
    "ylabel('Firing rate');\n",
    "title('PSTH with out smoothing window');"
   ]
  },
  {
   "cell_type": "markdown",
   "metadata": {
    "deletable": true,
    "editable": true
   },
   "source": [
    "### e) Benchmarking spike detection algorithm"
   ]
  },
  {
   "cell_type": "code",
   "execution_count": 13,
   "metadata": {
    "collapsed": false,
    "deletable": true,
    "editable": true
   },
   "outputs": [
    {
     "name": "stdout",
     "output_type": "stream",
     "text": [
      "Time elapsed for detecting 6 spikes\n",
      "Elapsed time is 0.502323 seconds.\n",
      "\n"
     ]
    }
   ],
   "source": [
    "disp('Time elapsed for detecting 6 spikes')\n",
    "tic; mht.spike_util.detectSpikes(data); toc;"
   ]
  }
 ],
 "metadata": {
  "kernelspec": {
   "display_name": "Matlab",
   "language": "matlab",
   "name": "matlab"
  },
  "language_info": {
   "codemirror_mode": "octave",
   "file_extension": ".m",
   "help_links": [
    {
     "text": "MetaKernel Magics",
     "url": "https://github.com/calysto/metakernel/blob/master/metakernel/magics/README.md"
    }
   ],
   "mimetype": "text/x-matlab",
   "name": "matlab",
   "version": "0.14.2"
  }
 },
 "nbformat": 4,
 "nbformat_minor": 2
}
